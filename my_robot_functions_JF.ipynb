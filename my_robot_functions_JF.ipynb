{
 "cells": [
  {
   "cell_type": "code",
   "execution_count": 20,
   "id": "d1ca5ea7-4b00-4e1a-9c6e-c15faa0c07e6",
   "metadata": {
    "tags": []
   },
   "outputs": [],
   "source": [
    "#\n",
    "#\n",
    "#  Define all the basic game functions\n",
    "#\n",
    "#\n",
    "\n",
    "def forward():\n",
    "    print(\"forward\")\n",
    "\n",
    "def stop():\n",
    "    print(\"stop\")\n",
    "\n",
    "def reverse():\n",
    "    print(\"reverse\")\n",
    "\n",
    "def powermotorsleft():\n",
    "    print(\"power motors left\")\n",
    "    \n",
    "def powermotorsright():\n",
    "    print(\"power motors right\")\n",
    "\n",
    "def degrees(position):\n",
    "    print(\"returning degrees\")\n",
    "\n",
    "def distance_traveled(position):\n",
    "    print(\"returning distance traveled\")\n",
    "\n",
    "def forward1():\n",
    "    print(\"forward for 1 second\")\n",
    "    \n",
    "def take_picture(fname):\n",
    "    print(r\"\"\"(REMOVE THIS FUNCTION FROM my_robot_functions IF YOU'RE ON THE ROBOT\n",
    "    --- Opening /dev/video0...\n",
    "Trying source module v4l2...\n",
    "/dev/video0 opened.\n",
    "No input was specified, using the first.\n",
    "Setting Brightness to 255 (100%%).\n",
    "Adjusting resolution from 1600x900 to 1600x896.\n",
    "--- Capturing frame...\n",
    "Captured frame in 0.00 seconds.\n",
    "--- Processing captured image...\n",
    "Disabling banner.\n",
    "Writing JPEG image to '%s'.\n",
    "    \"\"\" % fname)\n"
   ]
  },
  {
   "cell_type": "code",
   "execution_count": 21,
   "id": "c5b7e92a-9aa0-4e8c-a35c-113a8f867035",
   "metadata": {},
   "outputs": [],
   "source": [
    "#\n",
    "#\n",
    "#  MOVEMENT FUNCTIONS\n",
    "#\n",
    "#\n",
    "def go_forward_squares_yellow(number_cols_to_move):  # THIS FUNCTION GETS TO FIRST YELLOW\n",
    "    print(\"Yellow function started\")\n",
    "    print(\"Starting forward movement\")\n",
    "\n",
    "def rot90():\n",
    "    print(\"Rotate 90 started\")\n",
    "\n",
    "def go_forward_squares_blue(number_rows_to_move):   # THIS FUNCTION MOVES TO 1 SQUARE. Implement AFTER rot90() function\n",
    "    print(\"Blue function started\")\n",
    "    print(\"Starting forward movement\")\n",
    "\n",
    "def diagonal_left():\n",
    "    print(\"Starting diagonal capture left\")    \n",
    "\n",
    "def diagonal_right():\n",
    "    print(\"Starting diagonal capture right\")    \n",
    "\n",
    "def off_board():\n",
    "    print(\"moving off board\")"
   ]
  },
  {
   "cell_type": "code",
   "execution_count": null,
   "id": "e61e40e7-8617-4e5d-803f-3772c421ec18",
   "metadata": {},
   "outputs": [],
   "source": []
  }
 ],
 "metadata": {
  "kernelspec": {
   "display_name": "Python 3 (ipykernel)",
   "language": "python",
   "name": "python3"
  },
  "language_info": {
   "codemirror_mode": {
    "name": "ipython",
    "version": 3
   },
   "file_extension": ".py",
   "mimetype": "text/x-python",
   "name": "python",
   "nbconvert_exporter": "python",
   "pygments_lexer": "ipython3",
   "version": "3.11.5"
  }
 },
 "nbformat": 4,
 "nbformat_minor": 5
}

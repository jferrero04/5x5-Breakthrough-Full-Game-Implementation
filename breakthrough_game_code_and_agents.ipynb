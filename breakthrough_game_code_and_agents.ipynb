{
 "cells": [
  {
   "cell_type": "code",
   "execution_count": 1,
   "id": "f93d7021-2c1a-4efb-8760-30824e1b99e1",
   "metadata": {
    "tags": []
   },
   "outputs": [
    {
     "name": "stdout",
     "output_type": "stream",
     "text": [
      "Version:  0.3.09\n"
     ]
    }
   ],
   "source": [
    "from Game import *\n",
    "from Game.minimax import *\n",
    "from copy import deepcopy\n",
    "from tqdm.notebook import tqdm\n"
   ]
  },
  {
   "cell_type": "markdown",
   "id": "90089a8e-dc7b-45c3-a86d-cc9deeafafc0",
   "metadata": {},
   "source": [
    "# Game Code"
   ]
  },
  {
   "cell_type": "code",
   "execution_count": 2,
   "id": "bc1f0a0e-12c8-4dcb-93b0-c54f14c63a0e",
   "metadata": {
    "tags": []
   },
   "outputs": [],
   "source": [
    "def initial_state():\n",
    "    state=Board(5,5)\n",
    "    row=0\n",
    "    for col in range(5):\n",
    "        state[row, col] = 1\n",
    "    row=4\n",
    "    for col in range(5):\n",
    "        state[row, col] = 2\n",
    "    return state\n"
   ]
  },
  {
   "cell_type": "code",
   "execution_count": 3,
   "id": "7895bcc0-33dd-4a10-8ce8-3e9743ae1114",
   "metadata": {
    "tags": []
   },
   "outputs": [],
   "source": [
    "def valid_moves(state, player):\n",
    "    moves=[]\n",
    "    player1Column1down=[0,5,10,15]\n",
    "    player2Column1up=[5,10,15,20]\n",
    "    player1Column5down=[4,9,14,19]\n",
    "    player2Column5up=[9,14,19,24]\n",
    "\n",
    "    # Player 1 valid forward moves\n",
    "    if player==1:\n",
    "        for location in range(20):\n",
    "            if state[location]==1:\n",
    "                newLocation=location+5\n",
    "                if newLocation<len(state) and state[newLocation]==0:\n",
    "                    moves.append((location,newLocation))\n",
    "\n",
    "    # Player 2 valid forward moves\n",
    "    if player==2:\n",
    "        for location in range(5, 25):\n",
    "            if state[location]==2:\n",
    "                newLocation=location-5\n",
    "                if newLocation>=0 and state[newLocation]==0:\n",
    "                    moves.append((location,newLocation))\n",
    "                \n",
    "    # Player 1 valid diagonal moves right\n",
    "    if player==1:\n",
    "        for location in range(20):\n",
    "            if state[location]==1:\n",
    "                if location%5==4:\n",
    "                    continue\n",
    "                newLocation=location+6\n",
    "                if newLocation<len(state) and state[newLocation]==2:\n",
    "                    moves.append((location,newLocation))\n",
    "                \n",
    "    # Player 1 valid diagonal moves left\n",
    "    if player==1:\n",
    "        for location in range(5,25):\n",
    "            if state[location]==1:\n",
    "                if location%5==0:\n",
    "                    continue\n",
    "                newLocation=location+4\n",
    "                if newLocation<len(state) and state[newLocation]==2:\n",
    "                    moves.append((location,newLocation))\n",
    "                    \n",
    "    # Player 1 valid diagonal moves down column 1 (0 index)\n",
    "    if player==1:\n",
    "        for location in player1Column1down:\n",
    "            if state[location]==1:\n",
    "                newLocation=location+6\n",
    "                if newLocation<len(state) and state[newLocation]==2:\n",
    "                    moves.append((location,newLocation))\n",
    "                    \n",
    "    # Player 1 valid diagonal moves down column 5 (4 index)\n",
    "    if player==1:\n",
    "        for location in player1Column5down:\n",
    "            if state[location]==1:\n",
    "                newLocation=location+4\n",
    "                if newLocation<len(state) and state[newLocation]==2:\n",
    "                    moves.append((location,newLocation))\n",
    "                \n",
    "    # Player 2 valid diagonal moves right\n",
    "    if player==2:\n",
    "        for location in range(20):\n",
    "            if state[location]==2:\n",
    "                if location%5==4:\n",
    "                    continue\n",
    "                newLocation=location-6\n",
    "                if newLocation>=0 and state[newLocation]==1:\n",
    "                    moves.append((location,newLocation))\n",
    "                \n",
    "    # Player 2 valid diagonal moves left\n",
    "    if player==2:\n",
    "        for location in range(20):\n",
    "            if state[location]==2:\n",
    "                if location%5==0:\n",
    "                    continue\n",
    "                newLocation=location-4\n",
    "                if newLocation>=0 and state[newLocation]==1:\n",
    "                    moves.append((location,newLocation))\n",
    "                    \n",
    "    # Player 2 valid diagonal moves up column 1 (0 index)\n",
    "    if player==2:\n",
    "        for location in player2Column1up:\n",
    "            if state[location]==2:\n",
    "                newLocation=location-4\n",
    "                if newLocation<len(state) and state[newLocation]==1:\n",
    "                    moves.append((location,newLocation))\n",
    "                    \n",
    "    # Player 2 valid diagonal moves up column 5 (4 index)\n",
    "    if player==2:\n",
    "        for location in player2Column5up:\n",
    "            if state[location]==2:\n",
    "                newLocation=location-6\n",
    "                if newLocation<len(state) and state[newLocation]==1:\n",
    "                    moves.append((location,newLocation))\n",
    "\n",
    "                    \n",
    "    moves=[ [start,end] for start,end in moves]\n",
    "                    \n",
    "    return moves\n"
   ]
  },
  {
   "cell_type": "code",
   "execution_count": 4,
   "id": "514d2ada-41b3-4aa1-88e6-194f55fe28b7",
   "metadata": {
    "tags": []
   },
   "outputs": [],
   "source": [
    "def update_state(state,player,move):\n",
    "    start,end=move\n",
    "    newState=state\n",
    "    newState[start]=0\n",
    "    newState[end]=player\n",
    "    \n",
    "    return newState\n"
   ]
  },
  {
   "cell_type": "code",
   "execution_count": 5,
   "id": "c8c9dad4-c5d6-4219-8259-a24ffe99065b",
   "metadata": {
    "tags": []
   },
   "outputs": [],
   "source": [
    "def win_status(state,player):\n",
    "    # Win by reaching opposing players start row\n",
    "    for col in range(5):\n",
    "        if state[4, col]==1:\n",
    "            return \"win\"\n",
    "    for col in range(5):\n",
    "        if state[0, col]==2:\n",
    "            return \"win\"\n",
    "    # Win by blocking and win by eliminating all opposing players' pieces\n",
    "    if player==1 and not valid_moves(state,2):\n",
    "        return \"win\"\n",
    "    if player==2 and not valid_moves(state,1):\n",
    "        return \"win\"\n",
    "\n",
    "    return None\n"
   ]
  },
  {
   "cell_type": "code",
   "execution_count": 6,
   "id": "1d0c6395-bc46-4540-a052-4e81f3c3536d",
   "metadata": {
    "tags": []
   },
   "outputs": [],
   "source": [
    "def show_state(state,player):\n",
    "    print(state)\n"
   ]
  },
  {
   "cell_type": "code",
   "execution_count": 7,
   "id": "693bd21b-9bea-4937-af63-e66b49494ff7",
   "metadata": {
    "tags": []
   },
   "outputs": [],
   "source": [
    "def monkey_move(state,player):\n",
    "    return random.choice(valid_moves(state,player))\n",
    "monkey_agent=Agent(monkey_move)\n",
    "random_move=monkey_move\n"
   ]
  },
  {
   "cell_type": "code",
   "execution_count": 8,
   "id": "17b1e3b3-165f-4856-ad54-71e5de6b773a",
   "metadata": {
    "tags": []
   },
   "outputs": [],
   "source": [
    "def human_move(state,player):\n",
    "    while True:\n",
    "        moves=eval(input(\"Enter your move\"))\n",
    "        if moves not in valid_moves(state,player):\n",
    "            print(\"That is not a valid move\")\n",
    "        else:\n",
    "            break \n",
    "    return moves\n",
    "human_agent=Agent(human_move)\n"
   ]
  },
  {
   "cell_type": "markdown",
   "id": "74710263-2dce-49b0-842e-09a6553373c0",
   "metadata": {},
   "source": [
    "# Agents"
   ]
  },
  {
   "cell_type": "code",
   "execution_count": 9,
   "id": "fad7aff5-e844-4a61-9133-779e14127983",
   "metadata": {
    "tags": []
   },
   "outputs": [],
   "source": [
    "def minimax_move(state,player):\n",
    "    values,actions=minimax_values(state,player,display=True,maxdepth=5)\n",
    "    return top_choice(actions,values)\n",
    "minimax_agent=Agent(minimax_move)\n"
   ]
  },
  {
   "cell_type": "code",
   "execution_count": 10,
   "id": "9fe93a59-f4f2-4163-acd0-7bbbb64f3a1f",
   "metadata": {
    "tags": []
   },
   "outputs": [],
   "source": [
    "def skittles_move(state,player,info):\n",
    "    S=info.S\n",
    "    last_state=info.last_state\n",
    "    last_action=info.last_action\n",
    "    verbose=info.verbose\n",
    "\n",
    "    \n",
    "    if verbose:\n",
    "        print(\"\\t\",\"Player \",player,\" is thinking...\")\n",
    "        print(\"\\t\",\"State: \",state)\n",
    "        print(\"\\t\",\"Table:\",S)\n",
    "        print(\"\\t\",\"Last state,action: \",last_state,last_action)\n",
    "    \n",
    "    # make/adjust the table\n",
    "\n",
    "    if state not in S:\n",
    "        # add a row to the table for each move\n",
    "        S[state]=Table()\n",
    "        moves=valid_moves(state,player)\n",
    "        for action in moves:\n",
    "            S[state][action]=1  # number of skittles/beads for each move\n",
    "    \n",
    "        if verbose:\n",
    "            print(\"\\t\",\"State \",state,\"unknown...added to table\")\n",
    "            print(\"\\t\",\"Table\",S)\n",
    "    \n",
    "    move=weighted_choice(S[state])\n",
    "    if verbose:\n",
    "        print(\"\\t\",\"Choosing from S[\",state,\"]\",S[state],\"....Move: \",move)\n",
    "\n",
    "    if move is None:  # there are no skittles in this row\n",
    "        if last_state:\n",
    "            if verbose:\n",
    "                print(\"\\t\",\"No possible moves!\")\n",
    "                print(\"\\t\",\"Modifying the table: removing one skittle from (state,action) \",last_state,last_action)\n",
    "            S[last_state][last_action]=S[last_state][last_action]-1\n",
    "            \n",
    "            if verbose:\n",
    "                print(\"\\t\",\"Table:\",S)\n",
    "                \n",
    "            if S[last_state][last_action]<0:                \n",
    "                S[last_state][last_action]=0\n",
    "                if verbose:\n",
    "                    print(\"\\t\",\"Negative skittles...fixing.\")\n",
    "                    print(\"\\t\",\"Table:\",S)                \n",
    "        else:\n",
    "            if verbose:\n",
    "                print(\"\\t\",\"Started in a bad state \",state,\"with no moves and no last state.  Won't modify table.\")\n",
    "                  \n",
    "                  \n",
    "\n",
    "        move=random_move(state,player)\n",
    "\n",
    "    \n",
    "    return move\n"
   ]
  },
  {
   "cell_type": "code",
   "execution_count": 11,
   "id": "eb700ba4-5fa9-470e-8849-0f0919870525",
   "metadata": {
    "tags": []
   },
   "outputs": [],
   "source": [
    "def skittles_after(status,player,info):\n",
    "    S=info.S\n",
    "    last_state=info.last_state\n",
    "    last_action=info.last_action\n",
    "    verbose=info.verbose\n",
    "\n",
    "    if verbose:\n",
    "        print(\"\\t\",\"End of Game adjustments\")\n",
    "        print(\"\\t\",\"Player \",player,\" is thinking...\")\n",
    "        print(\"\\t\",\"Win Status: \",status)\n",
    "        print(\"\\t\",\"Table:\",S)\n",
    "        print(\"\\t\",\"Last state,action: \",last_state,last_action)\n",
    "        \n",
    "    if status=='lose':\n",
    "        if last_state:\n",
    "            S[last_state][last_action]=S[last_state][last_action]-1\n",
    "            if S[last_state][last_action]<0:\n",
    "                S[last_state][last_action]=0\n",
    "                \n",
    "            if verbose:\n",
    "                print(\"\\t\",\"Modifying the table: removing one skittle from (state,action) \",last_state,last_action)\n",
    "                print(\"\\t\",\"Table:\",S)\n",
    "\n",
    "                \n",
    "        else:\n",
    "            if verbose:\n",
    "                print(\"\\t\",\"No last state, so nothing to learn.\")\n",
    "            \n",
    "                \n",
    "    else:\n",
    "        if verbose:\n",
    "            print(\"\\t\",\"No adjustments needed.\")\n",
    "        \n",
    "    # does this double-count the learning if you lose on your own turn\n"
   ]
  },
  {
   "cell_type": "code",
   "execution_count": 12,
   "id": "0caf6901-cadf-4cf2-aacf-9d8abe0ecdf9",
   "metadata": {
    "tags": []
   },
   "outputs": [],
   "source": [
    "def Q_move(state,player,info):\n",
    "    Q=info.Q\n",
    "    last_state=info.last_state\n",
    "    last_action=info.last_action\n",
    "    learning=info.learning\n",
    "    \n",
    "    α=info.α  # learning rate\n",
    "    ϵ=info.ϵ  # how often to take a random move\n",
    "    γ=info.γ  # memory constant -- how quickly does the table update back in time (earlier in the game)\n",
    "    \n",
    "    # \\alpha <hit tab>    α\n",
    "    # \\epsilon <hit tab>  ϵ\n",
    "    # \\gamma <hit tab>    γ\n",
    "    \n",
    "    if state not in Q:\n",
    "        actions=valid_moves(state,player)\n",
    "        Q[state]=Table()\n",
    "        for action in actions:\n",
    "            Q[state][action]=0  # initial value of table\n",
    "    \n",
    "    if learning:\n",
    "        if random.random()<ϵ:  # take a random move occasionally to explore the environment\n",
    "            move=random_move(state,player)\n",
    "        else:\n",
    "            move=top_choice(Q[state])\n",
    "    else:\n",
    "        move=top_choice(Q[state])\n",
    "    \n",
    "    if not last_action is None:  # not the first move\n",
    "        reward=0\n",
    "        \n",
    "        # learn\n",
    "        if learning:\n",
    "            Q[last_state][last_action]+=α*(reward +\n",
    "                        γ*max([Q[state][a] for a in Q[state]]) - Q[last_state][last_action])\n",
    "    \n",
    "    return move\n"
   ]
  },
  {
   "cell_type": "code",
   "execution_count": 13,
   "id": "9ffb86e2-9c2a-4ea3-9e48-c09ba8b9b6d1",
   "metadata": {
    "tags": []
   },
   "outputs": [],
   "source": [
    "def Q_after(status,player,info):\n",
    "    Q=info.Q\n",
    "    last_state=info.last_state\n",
    "    last_action=info.last_action\n",
    "    learning=info.learning\n",
    "    \n",
    "    α=info.α  # learning rate\n",
    "    ϵ=info.ϵ  # how often to take a random move\n",
    "    γ=info.γ  # memory constant -- how quickly does the table update back in time (earlier in the game)\n",
    "    \n",
    "    # \\alpha <hit tab>    α\n",
    "    # \\epsilon <hit tab>  ϵ\n",
    "    # \\gamma <hit tab>    γ\n",
    "\n",
    "    if status=='lose':\n",
    "        reward=-1\n",
    "    elif status=='win':\n",
    "        reward=1\n",
    "    elif status=='stalemate':\n",
    "        reward=.5 # value stalemate a little closer to a win\n",
    "    else:\n",
    "        reward=0\n",
    "    \n",
    "    \n",
    "    if learning:\n",
    "        Q[last_state][last_action]+=α*(reward - Q[last_state][last_action])\n"
   ]
  },
  {
   "cell_type": "code",
   "execution_count": 14,
   "id": "7f029181-a20f-418f-a9f5-688a2a4efb01",
   "metadata": {},
   "outputs": [],
   "source": [
    "from Game.mcts import *\n",
    "def mcts_move(state,player,info):\n",
    "    T=info.T\n",
    "    values,moves=mcts_values(state,player,T,info.seconds)\n",
    "    return top_choice(moves,values)\n",
    "\n",
    "mcts_agent=Agent(mcts_move)\n",
    "mcts_agent.T=LoadTable(filename='mcts_data_breakthrough.json')\n",
    "mcts_agent.seconds=1"
   ]
  },
  {
   "cell_type": "code",
   "execution_count": null,
   "id": "ee85005c-9af6-42ca-ba80-92d04360c2e2",
   "metadata": {},
   "outputs": [],
   "source": []
  }
 ],
 "metadata": {
  "kernelspec": {
   "display_name": "Python 3 (ipykernel)",
   "language": "python",
   "name": "python3"
  },
  "language_info": {
   "codemirror_mode": {
    "name": "ipython",
    "version": 3
   },
   "file_extension": ".py",
   "mimetype": "text/x-python",
   "name": "python",
   "nbconvert_exporter": "python",
   "pygments_lexer": "ipython3",
   "version": "3.11.5"
  }
 },
 "nbformat": 4,
 "nbformat_minor": 5
}

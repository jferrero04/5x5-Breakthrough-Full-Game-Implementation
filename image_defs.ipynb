{
 "cells": [
  {
   "cell_type": "code",
   "execution_count": 1,
   "id": "4d17a69c-5c6b-47d4-915e-dfff34680f68",
   "metadata": {
    "tags": []
   },
   "outputs": [],
   "source": [
    "def straighten_image(image,corners=None):\n",
    "    import numpy as np\n",
    "    import cv2\n",
    "\n",
    "    \n",
    "    if corners is None:\n",
    "        corners=find_corners(image)\n",
    "\n",
    "    top_left, top_right, bottom_right, bottom_left=corners\n",
    "    # Define the width and height of the new \"top-down\" view\n",
    "    width = int(max(\n",
    "        np.linalg.norm(bottom_right - bottom_left),\n",
    "        np.linalg.norm(top_right - top_left)\n",
    "    ))\n",
    "    height = int(max(\n",
    "        np.linalg.norm(top_right - bottom_right),\n",
    "        np.linalg.norm(top_left - bottom_left)\n",
    "    ))\n",
    "\n",
    "    # Define the destination points for the perspective transform\n",
    "    destination_corners = np.array([\n",
    "        [0, 0],\n",
    "        [width - 1, 0],\n",
    "        [width - 1, height - 1],\n",
    "        [0, height - 1]\n",
    "    ], dtype=\"float32\")\n",
    "\n",
    "    # Compute the perspective transform matrix\n",
    "    matrix = cv2.getPerspectiveTransform(corners, destination_corners)\n",
    "    \n",
    "    # Apply the perspective transformation\n",
    "    warped_image = cv2.warpPerspective(image, matrix, (width, height))\n",
    "\n",
    "    return warped_image\n"
   ]
  },
  {
   "cell_type": "code",
   "execution_count": 2,
   "id": "5a404fb1-52b5-43b3-a412-753c6320812b",
   "metadata": {
    "tags": []
   },
   "outputs": [],
   "source": [
    "def get_board_squares_from_image(image,board_size,square_size=(80,80)):\n",
    "    import numpy as np\n",
    "    import cv2\n",
    "    nr,nc=board_size\n",
    "    \n",
    "    squares=[]\n",
    "    pix_row=image.shape[0]//nr\n",
    "    pix_col=image.shape[1]//nc\n",
    "    \n",
    "    count=1\n",
    "    for r in range(nr):\n",
    "        for c in range(nc):\n",
    "            subim=image[ pix_row*r:pix_row*(r+1),\n",
    "                        pix_col*c:pix_col*(c+1),\n",
    "                        :]\n",
    "            subim=cv2.resize(subim,square_size)\n",
    "\n",
    "            squares.append(subim)\n",
    "\n",
    "    return squares\n"
   ]
  },
  {
   "cell_type": "code",
   "execution_count": 3,
   "id": "7991567d-b16a-488d-b7b2-8af74096bd4d",
   "metadata": {
    "tags": []
   },
   "outputs": [],
   "source": [
    "def get_gray_and_threshold_image(image,threshold,fill_sides=True):\n",
    "    import numpy as np\n",
    "    import cv2\n",
    "\n",
    "    gray = cv2.cvtColor(image, cv2.COLOR_BGR2GRAY)\n",
    "    h, w = image.shape[:2]\n",
    "    threshold_im=((gray<threshold)*255).astype(np.uint8)\n",
    "\n",
    "    if fill_sides:\n",
    "        # fill in the side parts that are off the grid\n",
    "        val=0\n",
    "        cv2.floodFill(threshold_im,None,(0,0),val)\n",
    "        cv2.floodFill(threshold_im,None,(w-1,0),val)\n",
    "        cv2.floodFill(threshold_im,None,(w-1,h-1),val)\n",
    "        cv2.floodFill(threshold_im,None,(0,h-1),val)   \n",
    "\n",
    "\n",
    "    return gray,threshold_im"
   ]
  },
  {
   "cell_type": "code",
   "execution_count": 4,
   "id": "871778d4-bfc2-4bc9-a5c3-cf82238bc0aa",
   "metadata": {
    "tags": []
   },
   "outputs": [],
   "source": [
    "def find_corners(threshold_image,plotit=False):\n",
    "    import numpy as np\n",
    "    from pylab import figure,imshow,plot\n",
    "    import cv2\n",
    "    \n",
    "    idx=np.where(threshold_image>126)\n",
    "    points=[]\n",
    "    for (i,j) in zip(idx[0],idx[1]):\n",
    "        points.append((j,i))\n",
    "    \n",
    "    points=np.array(points)\n",
    "    xp=points[:,0]\n",
    "    yp=points[:,1]\n",
    "    \n",
    "    import scipy.spatial\n",
    "    hull = scipy.spatial.ConvexHull(points)\n",
    "    hull_points = points[hull.vertices]\n",
    "\n",
    "    x=hull_points[:,0]\n",
    "    y=hull_points[:,1]\n",
    "\n",
    "\n",
    "    if plotit:\n",
    "        imshow(threshold_image)\n",
    "        plot(xp,yp,'.')\n",
    "        plot(x,y,'o-')\n",
    "\n",
    "    \n",
    "    h,w=threshold_image.shape\n",
    "    corners=[]    \n",
    "    for x2,y2 in [ [w,h], [0,h],[0,0],[w,0]  ]:\n",
    "        d=(x-x2)**2+(y-y2)**2\n",
    "        idx=np.argmax(d)\n",
    "    \n",
    "        corners.append([x[idx],y[idx]])\n",
    "    corners=np.array(corners,dtype=np.float32)\n",
    "    \n",
    "    if plotit:\n",
    "        plot(corners[:,0],corners[:,1],'*')\n",
    "\n",
    "    return corners"
   ]
  }
 ],
 "metadata": {
  "kernelspec": {
   "display_name": "Python 3 (ipykernel)",
   "language": "python",
   "name": "python3"
  },
  "language_info": {
   "codemirror_mode": {
    "name": "ipython",
    "version": 3
   },
   "file_extension": ".py",
   "mimetype": "text/x-python",
   "name": "python",
   "nbconvert_exporter": "python",
   "pygments_lexer": "ipython3",
   "version": "3.11.5"
  }
 },
 "nbformat": 4,
 "nbformat_minor": 5
}
